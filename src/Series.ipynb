{
 "metadata": {
  "language_info": {
   "codemirror_mode": {
    "name": "ipython",
    "version": 3
   },
   "file_extension": ".py",
   "mimetype": "text/x-python",
   "name": "python",
   "nbconvert_exporter": "python",
   "pygments_lexer": "ipython3",
   "version": 3
  },
  "orig_nbformat": 2
 },
 "nbformat": 4,
 "nbformat_minor": 2,
 "cells": [
  {
   "source": [
    "# Series\n",
    "----\n",
    "Nesse notebook iremos aprender sobre Series, será abordado os seguintes temas:\n",
    "<ul>\n",
    "    <li>Criação e propriedades básicas</li>\n",
    "    <li>Técnicas para consulta e modificação de dados</li>\n",
    "    <li>Computação vetorizada</li>\n",
    "    <li>Índices datetime</li>\n",
    "    <li>Indexação hierárquica</li>\n",
    "</ul>"
   ],
   "cell_type": "markdown",
   "metadata": {}
  },
  {
   "cell_type": "code",
   "execution_count": null,
   "metadata": {},
   "outputs": [],
   "source": []
  }
 ]
}